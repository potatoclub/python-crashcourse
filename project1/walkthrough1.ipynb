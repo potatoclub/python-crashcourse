{
 "cells": [
  {
   "cell_type": "markdown",
   "metadata": {},
   "source": [
    "# Syntax, Data Types, and Loops... Oh My!"
   ]
  },
  {
   "cell_type": "markdown",
   "metadata": {},
   "source": [
    "Python is a robust language that allows users to implement more complex programs with cleaner code. If you have learned other programming languages like C++, C#, or Java, that's great! The fundamentals are the same. Along the way, we'll make sure to note the differences between Python and other languages to help you understand it at a deeper level."
   ]
  },
  {
   "cell_type": "markdown",
   "metadata": {},
   "source": [
    "## Syntax"
   ]
  },
  {
   "cell_type": "markdown",
   "metadata": {},
   "source": [
    "Indentation is muy muy importante. Python doesn't use the fancy schmancy curly brackets {} to identify code blocks, just line indents. \n",
    "Remember that we don't use semicolons either; each line is a separate statement."
   ]
  },
  {
   "cell_type": "code",
   "execution_count": null,
   "metadata": {},
   "outputs": [],
   "source": [
    "if (1 == 2): \n",
    "    print(\"The world no longer makes sense\")"
   ]
  },
  {
   "cell_type": "code",
   "execution_count": null,
   "metadata": {},
   "outputs": [],
   "source": [
    "if (1 == 2):\n",
    "print (\"This doesn't work any way you cut it\")"
   ]
  },
  {
   "cell_type": "markdown",
   "metadata": {},
   "source": [
    "> The code will not work as expected without proper indentation"
   ]
  },
  {
   "cell_type": "markdown",
   "metadata": {},
   "source": [
    "### Variables"
   ]
  },
  {
   "cell_type": "code",
   "execution_count": null,
   "metadata": {},
   "outputs": [],
   "source": [
    "x = 0\n",
    "y = \"xyz\""
   ]
  },
  {
   "cell_type": "markdown",
   "metadata": {},
   "source": [
    "> Variables are assigned this way."
   ]
  },
  {
   "cell_type": "markdown",
   "metadata": {},
   "source": [
    "### Comments"
   ]
  },
  {
   "cell_type": "code",
   "execution_count": null,
   "metadata": {},
   "outputs": [],
   "source": [
    "# This is a single-line comment\n",
    "\n",
    "''' There are no multi-line comments. \n",
    "Instead we use multi-line string literals,\n",
    "like this. '''"
   ]
  },
  {
   "cell_type": "markdown",
   "metadata": {},
   "source": [
    "## Variables"
   ]
  },
  {
   "cell_type": "code",
   "execution_count": null,
   "metadata": {},
   "outputs": [],
   "source": [
    "# Variables are created when you assign values to them\n",
    "x = 10\n",
    "y = 1.23439\n",
    "z = \"xyz\"\n",
    "\n",
    "print(x)\n",
    "print(y)\n",
    "print(z)"
   ]
  },
  {
   "cell_type": "markdown",
   "metadata": {},
   "source": [
    "> Unlike programming languages like Java or C++, variables don't have types. They can be assigned to any object."
   ]
  },
  {
   "cell_type": "code",
   "execution_count": null,
   "metadata": {},
   "outputs": [],
   "source": [
    "x = \"taco\"\n",
    "print(x)\n",
    "print(type(x))"
   ]
  },
  {
   "cell_type": "markdown",
   "metadata": {},
   "source": [
    "> If you so choose, a variable's type can change after its first assignment."
   ]
  },
  {
   "cell_type": "code",
   "execution_count": null,
   "metadata": {},
   "outputs": [],
   "source": [
    "X = \"cat\"\n",
    "print(X)\n",
    "print(x)"
   ]
  },
  {
   "cell_type": "markdown",
   "metadata": {},
   "source": [
    "> Variable names are also case sensitive."
   ]
  },
  {
   "cell_type": "code",
   "execution_count": null,
   "metadata": {},
   "outputs": [],
   "source": [
    "print(y)\n",
    "y = int(y) # This is called casting\n",
    "print(y)"
   ]
  },
  {
   "cell_type": "markdown",
   "metadata": {},
   "source": [
    "> You can change the type of the object assigned to a variable  y __casting__ it. The example above casts from a float to an int."
   ]
  },
  {
   "cell_type": "markdown",
   "metadata": {},
   "source": [
    "## Built-in Data Types"
   ]
  },
  {
   "cell_type": "markdown",
   "metadata": {},
   "source": [
    "### Text"
   ]
  },
  {
   "cell_type": "code",
   "execution_count": null,
   "metadata": {},
   "outputs": [],
   "source": [
    "x = \"This is a string used to represent text\" # str"
   ]
  },
  {
   "cell_type": "markdown",
   "metadata": {},
   "source": [
    "### Numeric"
   ]
  },
  {
   "cell_type": "code",
   "execution_count": null,
   "metadata": {},
   "outputs": [],
   "source": [
    "x = 7.3423525 # float\n",
    "x = 34 # int\n",
    "x = 8j # complex"
   ]
  },
  {
   "cell_type": "markdown",
   "metadata": {},
   "source": [
    "### Sequences"
   ]
  },
  {
   "cell_type": "code",
   "execution_count": null,
   "metadata": {},
   "outputs": [],
   "source": [
    "x = [1, 2, 3, 4] # list\n",
    "x = (\"apple\", \"banana\") # tuple\n",
    "x = range(7) # range"
   ]
  },
  {
   "cell_type": "markdown",
   "metadata": {},
   "source": [
    "### Miscellaneous"
   ]
  },
  {
   "cell_type": "code",
   "execution_count": null,
   "metadata": {},
   "outputs": [],
   "source": [
    "x = True # bool"
   ]
  },
  {
   "cell_type": "markdown",
   "metadata": {},
   "source": [
    "There are also dicts, sets, and binary types like bytes. These will be discussed in further detail later on."
   ]
  },
  {
   "cell_type": "markdown",
   "metadata": {},
   "source": [
    "### <font color=\"cyan\">Big Picture: References<font>"
   ]
  },
  {
   "cell_type": "markdown",
   "metadata": {},
   "source": [
    "In Python, variables are references/pointers to objects. When we assign the variable __n__ to 300, __n__ is _pointing_ to the integer object 300.\n",
    "\n",
    "<img src=\"https://files.realpython.com/media/t.2d7bcb9afaaf.png\" height=100px width=auto><img>"
   ]
  },
  {
   "cell_type": "markdown",
   "metadata": {},
   "source": [
    "Moreover, when the variable __m__ is assigned to the variable __n__, __m__ points to the object to which __n__ is pointed.\n",
    "\n",
    "<img src=\"https://files.realpython.com/media/t.d368386b8423.png\" height=100px width=auto><img>"
   ]
  },
  {
   "cell_type": "code",
   "execution_count": null,
   "metadata": {},
   "outputs": [],
   "source": [
    "n = 300\n",
    "m = n\n",
    "\n",
    "print(\"n =\", n)\n",
    "print(\"m =\", m)"
   ]
  },
  {
   "cell_type": "markdown",
   "metadata": {},
   "source": [
    "If __m__ is reassigned to 400, __m__ points to 400 instead of 300.\n",
    "\n",
    "<img src=\"https://files.realpython.com/media/t.d476d91592cd.png\" height=200px width=auto><img>"
   ]
  },
  {
   "cell_type": "code",
   "execution_count": null,
   "metadata": {},
   "outputs": [],
   "source": [
    "m = 400\n",
    "\n",
    "print(\"n =\", n)\n",
    "print(\"m =\", m)"
   ]
  },
  {
   "cell_type": "markdown",
   "metadata": {},
   "source": [
    "If __n__ is reassigned to \"foo\", no variable points to the object 300 anymore. Objects that are no longer be referenced cannot be accessed, and Python will eventually \"free\" the memory allocated for that object in a process called __garbage collection__.\n",
    "\n",
    "<img src=\"https://files.realpython.com/media/t.344ab0b3aa8c.png\" height=300px width=auto><img>"
   ]
  },
  {
   "cell_type": "code",
   "execution_count": null,
   "metadata": {},
   "outputs": [],
   "source": [
    "n = \"foo\"\n",
    "\n",
    "print(\"n =\", n)\n",
    "print(\"m =\", m)"
   ]
  },
  {
   "cell_type": "markdown",
   "metadata": {},
   "source": [
    "### <font color=\"cyan\">Big Picture: Immutability<font>"
   ]
  },
  {
   "cell_type": "markdown",
   "metadata": {},
   "source": [
    "The value of __immutable__ objects cannot be changed. Such object types include strings, integers, floats, booleans, and tuples. Naturally, the value of __mutable__ objects can be changed."
   ]
  },
  {
   "cell_type": "markdown",
   "metadata": {},
   "source": [
    "> _\"Unhashable\"_ means the same thing as _\"mutable\"_"
   ]
  },
  {
   "cell_type": "code",
   "execution_count": null,
   "metadata": {},
   "outputs": [],
   "source": [
    "a = \"Hello\"\n",
    "a += \" World!\"\n",
    "print (a)"
   ]
  },
  {
   "cell_type": "markdown",
   "metadata": {},
   "source": [
    "> The above code assigns \"Hello\" to __a__, then it concatenates __a__ with \" World!\". At the time of concatenation, a completely new string \"Hello World!\" is created. __a__ points to \"Hello World!\" by the end of execution."
   ]
  },
  {
   "cell_type": "markdown",
   "metadata": {},
   "source": [
    "When you write Python code, consider how the immutability of an object may affect program performance. If you have a tuple of great length and decide to insert a new element, Python will create an entirely new tuple to do so. This is inefficient, and in this scenario, you would be better off using a mutable object, like a list."
   ]
  },
  {
   "cell_type": "markdown",
   "metadata": {},
   "source": [
    "## Lists"
   ]
  },
  {
   "cell_type": "markdown",
   "metadata": {},
   "source": [
    "Lists are __ordered__ and __mutable__.\n",
    "Because lists are ordered, the order of elements in the list will not change.\n",
    "Mutability means the list can be changed: We can add, remove, and modify its elements. \n",
    "They may also store multiple data types."
   ]
  },
  {
   "cell_type": "code",
   "execution_count": null,
   "metadata": {},
   "outputs": [],
   "source": [
    "list_1 = [\"Fly\", \"me\", \"to\", \"the\", \"moon\"]\n",
    "list_2 = list((\"cat\", 1, True)) # a list is being constructed from a tuple"
   ]
  },
  {
   "cell_type": "markdown",
   "metadata": {},
   "source": [
    "> Lists can be created using square brackets or the list constructor _list()_"
   ]
  },
  {
   "cell_type": "markdown",
   "metadata": {},
   "source": [
    "### Length"
   ]
  },
  {
   "cell_type": "code",
   "execution_count": null,
   "metadata": {},
   "outputs": [],
   "source": [
    "print(len(list_1))"
   ]
  },
  {
   "cell_type": "markdown",
   "metadata": {},
   "source": [
    "> _len()_ returns the length of the list. It can be used for other sequential data types as well."
   ]
  },
  {
   "cell_type": "markdown",
   "metadata": {},
   "source": [
    "### Indexing"
   ]
  },
  {
   "cell_type": "code",
   "execution_count": null,
   "metadata": {},
   "outputs": [],
   "source": [
    "print(list_1[0]) # returns the element at index 0\n",
    "\n",
    "print(list_1[-1]) # returns the last element; \n",
    "\n",
    "print(list_1[-2]) #  returns the second to last element\n",
    "\n",
    "list_2[1] = \"bagel\" # changes the element at index 1\n",
    "print(list_2)"
   ]
  },
  {
   "cell_type": "markdown",
   "metadata": {},
   "source": [
    "### Slicing"
   ]
  },
  {
   "cell_type": "markdown",
   "metadata": {},
   "source": [
    "Slicing returns a new list in the range of the given indeces."
   ]
  },
  {
   "cell_type": "code",
   "execution_count": null,
   "metadata": {},
   "outputs": [],
   "source": [
    "print(list_1[2:4])\n",
    "\n",
    "print(list_1[-3:4])"
   ]
  },
  {
   "cell_type": "markdown",
   "metadata": {},
   "source": [
    "> The first index is the starting index, and the second index is the end. The start is included. The end is excluded."
   ]
  },
  {
   "cell_type": "code",
   "execution_count": null,
   "metadata": {},
   "outputs": [],
   "source": [
    "print(list_1[0:5:2])"
   ]
  },
  {
   "cell_type": "markdown",
   "metadata": {},
   "source": [
    "> The third index is the _step size_ (how many elements to skip each 'step')"
   ]
  },
  {
   "cell_type": "code",
   "execution_count": null,
   "metadata": {},
   "outputs": [],
   "source": [
    "# More Examples\n",
    "\n",
    "print(list_1[:3])\n",
    "\n",
    "print(list_1[2:])\n",
    "\n",
    "print(list_1[::2])"
   ]
  },
  {
   "cell_type": "code",
   "execution_count": null,
   "metadata": {},
   "outputs": [],
   "source": [
    "list_1[1:3] = [\"Kevin\", \"at\"] # slicing to change items in the original list\n",
    "print(list_1)"
   ]
  },
  {
   "cell_type": "markdown",
   "metadata": {},
   "source": [
    "> Indexing and Slicing can both be performed on strings too."
   ]
  },
  {
   "cell_type": "markdown",
   "metadata": {},
   "source": [
    "### Methods"
   ]
  },
  {
   "cell_type": "markdown",
   "metadata": {},
   "source": [
    "## Dictionaries"
   ]
  },
  {
   "cell_type": "markdown",
   "metadata": {},
   "source": [
    "## Conditional Statements"
   ]
  },
  {
   "cell_type": "markdown",
   "metadata": {},
   "source": [
    "### If/Else"
   ]
  },
  {
   "cell_type": "markdown",
   "metadata": {},
   "source": [
    "### Switch Case"
   ]
  },
  {
   "cell_type": "markdown",
   "metadata": {},
   "source": [
    "## Loops"
   ]
  },
  {
   "cell_type": "markdown",
   "metadata": {},
   "source": [
    "### While"
   ]
  },
  {
   "cell_type": "markdown",
   "metadata": {},
   "source": [
    "### For"
   ]
  },
  {
   "cell_type": "markdown",
   "metadata": {},
   "source": [
    "#### Iterables"
   ]
  },
  {
   "cell_type": "markdown",
   "metadata": {},
   "source": [
    "#### Ranges"
   ]
  },
  {
   "cell_type": "markdown",
   "metadata": {},
   "source": [
    "### List Comprehensions"
   ]
  },
  {
   "cell_type": "markdown",
   "metadata": {},
   "source": [
    "## Basic I/O"
   ]
  },
  {
   "cell_type": "markdown",
   "metadata": {},
   "source": [
    "## Python Docs (3.10.0)"
   ]
  }
 ],
 "metadata": {
  "interpreter": {
   "hash": "51cdac5c60926b8378d60f9a408de06211413f0e45f5e67a62954395babe3d70"
  },
  "kernelspec": {
   "display_name": "Python 3.9.0 64-bit",
   "language": "python",
   "name": "python3"
  },
  "language_info": {
   "codemirror_mode": {
    "name": "ipython",
    "version": 3
   },
   "file_extension": ".py",
   "mimetype": "text/x-python",
   "name": "python",
   "nbconvert_exporter": "python",
   "pygments_lexer": "ipython3",
   "version": "3.9.7"
  },
  "orig_nbformat": 4
 },
 "nbformat": 4,
 "nbformat_minor": 2
}
