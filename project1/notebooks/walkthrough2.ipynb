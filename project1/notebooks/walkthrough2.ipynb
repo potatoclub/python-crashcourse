{
 "cells": [
  {
   "cell_type": "markdown",
   "metadata": {},
   "source": [
    "# Functions & Modules"
   ]
  },
  {
   "cell_type": "markdown",
   "metadata": {},
   "source": [
    "Functions and modules are two critically important parts of any Python programmer's toolkit. When we write code, we want it to be organized just as much as we want it to work, and functions and modules help with this.\n",
    "\n",
    "As a rule of thumb, really long code blocks should probably be broken down into smaller pieces. There are various benefits, one of which is readibility, but another would be to avoid redundant code. When you repeatedly write the same lines of code with small changes, it extends the length of the code and is prone to error. We resolve this with functions."
   ]
  },
  {
   "cell_type": "markdown",
   "metadata": {},
   "source": [
    "## Functions"
   ]
  },
  {
   "cell_type": "code",
   "execution_count": null,
   "metadata": {},
   "outputs": [],
   "source": [
    "def func(x): # function definition, the parameters go inside the parentheses\n",
    "    return x * 2 # the return statement"
   ]
  },
  {
   "cell_type": "markdown",
   "metadata": {},
   "source": [
    "> _func_ is defined with one parameter _x_. What data type can _func_ return? At the moment, it's going to be dependent on _x_. If _x_ is an int, _func_ returns an int. If it's a float, _func_ returns a _float_.\n",
    ">\n",
    ">_x_ could be any data type for that matter, even a string. The code may not execute as expected, but it's something to take into account."
   ]
  },
  {
   "cell_type": "code",
   "execution_count": null,
   "metadata": {},
   "outputs": [],
   "source": [
    "print(func(1.3)) # 1.3 is the argument, which will be assigned to parameter x at the time of the function call\n",
    "print(func(\"poodle\"))"
   ]
  },
  {
   "cell_type": "markdown",
   "metadata": {},
   "source": [
    "> Python accepts any object with open arms as a parameter to a function, and the function could output any object. We have NO GUARANTEE we will get the desired data type at any part of our code because variables have no type."
   ]
  },
  {
   "cell_type": "markdown",
   "metadata": {},
   "source": [
    "### Type Annotations"
   ]
  },
  {
   "cell_type": "markdown",
   "metadata": {},
   "source": [
    "Type annotations are really just glorified comments. They are not enforced by the Python interpreter, but they can still help programmers understand their code."
   ]
  },
  {
   "cell_type": "code",
   "execution_count": null,
   "metadata": {},
   "outputs": [],
   "source": [
    "def func_with_annot(x: int, y: bool) -> float:\n",
    "    if y:\n",
    "        return 0\n",
    "    else:\n",
    "        return x * 2.5"
   ]
  },
  {
   "cell_type": "markdown",
   "metadata": {},
   "source": [
    "> Type annotations can be placed after a parameter with a colon or after the parentheses with ->. The former denotes the type of the parameter, and a the latter denotes the return type of the function."
   ]
  },
  {
   "cell_type": "markdown",
   "metadata": {},
   "source": [
    "### Parameters"
   ]
  },
  {
   "cell_type": "markdown",
   "metadata": {},
   "source": [
    "#### <font color=\"cyan\">Big Picture: Pass by Reference<font>"
   ]
  },
  {
   "cell_type": "markdown",
   "metadata": {},
   "source": [
    "Let's take a look at what happens during a function call: First, the program maps each parameter to its corresponding argument. But, remember how variables, including parameters, are just references to objects? This means you are assigning the references to the parameters, not the values.\n",
    "\n",
    "So, when you pass a list as a parameter to a function, the original list can be modified by the function. \n",
    "\n",
    "How about strings or integers? No. These are immutable types. \"Changing\" their values within the function simply reassigns the parameter to a new object."
   ]
  },
  {
   "cell_type": "markdown",
   "metadata": {},
   "source": [
    "#### Default Value"
   ]
  },
  {
   "cell_type": "markdown",
   "metadata": {},
   "source": [
    "#### *args"
   ]
  },
  {
   "cell_type": "code",
   "execution_count": null,
   "metadata": {},
   "outputs": [],
   "source": [
    "def func_with_default(x=10):\n",
    "    return x**2\n",
    "\n",
    "print(func_with_default())\n",
    "print(func_with_default(20))"
   ]
  },
  {
   "cell_type": "markdown",
   "metadata": {},
   "source": [
    "\\* keyword in front of a parameter allows for an unknown number of arguments passed as a __tuple__. This can only be used on one parameter."
   ]
  },
  {
   "cell_type": "code",
   "execution_count": null,
   "metadata": {},
   "outputs": [],
   "source": [
    "def func_with_args(*args):\n",
    "    return args[0]\n",
    "\n",
    "func_with_args(\"one\", 2, \"google\")"
   ]
  },
  {
   "cell_type": "markdown",
   "metadata": {},
   "source": [
    "#### **kwargs"
   ]
  },
  {
   "cell_type": "markdown",
   "metadata": {},
   "source": [
    "\\** keyword in front of a parameter allows for an unknown number of keyword arguments passed as a __dict__. This can only be used on one parameter."
   ]
  },
  {
   "cell_type": "code",
   "execution_count": null,
   "metadata": {},
   "outputs": [],
   "source": [
    "def func_with_args(**kwargs):\n",
    "    return kwargs[\"search_engine\"]\n",
    "\n",
    "func_with_args(string = \"one\", age = 2, search_engine = \"google\")"
   ]
  },
  {
   "cell_type": "markdown",
   "metadata": {},
   "source": [
    "#### Order"
   ]
  },
  {
   "cell_type": "markdown",
   "metadata": {},
   "source": [
    "Order of these special parameters matter. default parameters, *args, and **kwargs must be the last parameters _in that order_"
   ]
  },
  {
   "cell_type": "code",
   "execution_count": 9,
   "metadata": {},
   "outputs": [],
   "source": [
    "def func_with_everything(x, y=0, *args, **kwargs):\n",
    "    pass"
   ]
  },
  {
   "cell_type": "markdown",
   "metadata": {},
   "source": [
    "Functions are also important in the concept of __abstraction__ (making a bigger picture out of smaller ideas). Do we know exactly how the _input()_ or _print()_ functions work? How does the program interface with the keyboard or computer screen? We could find out, but it's an arduous and frankly unnecessary task for a beginning programmer.\n",
    "\n",
    "Instead, we focus on _input()_ or _print()_, and build our code from there. There's no need to worry about what's happening in the background (at least, for now)."
   ]
  },
  {
   "cell_type": "markdown",
   "metadata": {},
   "source": [
    "## Modules"
   ]
  },
  {
   "cell_type": "code",
   "execution_count": null,
   "metadata": {},
   "outputs": [],
   "source": [
    "if __name__ == '__main__':\n",
    "    ## Insert your code here ##\n",
    "    pass"
   ]
  },
  {
   "cell_type": "markdown",
   "metadata": {},
   "source": [
    "## The Namespace"
   ]
  },
  {
   "cell_type": "markdown",
   "metadata": {},
   "source": [
    "### Global & Nonlocal"
   ]
  }
 ],
 "metadata": {
  "interpreter": {
   "hash": "51cdac5c60926b8378d60f9a408de06211413f0e45f5e67a62954395babe3d70"
  },
  "kernelspec": {
   "display_name": "Python 3.9.0 64-bit",
   "language": "python",
   "name": "python3"
  },
  "language_info": {
   "codemirror_mode": {
    "name": "ipython",
    "version": 3
   },
   "file_extension": ".py",
   "mimetype": "text/x-python",
   "name": "python",
   "nbconvert_exporter": "python",
   "pygments_lexer": "ipython3",
   "version": "3.9.0"
  },
  "orig_nbformat": 4
 },
 "nbformat": 4,
 "nbformat_minor": 2
}
