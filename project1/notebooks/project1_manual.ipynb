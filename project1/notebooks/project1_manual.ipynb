{
 "cells": [
  {
   "cell_type": "markdown",
   "metadata": {},
   "source": [
    "# Project 1: File Scanner"
   ]
  },
  {
   "cell_type": "markdown",
   "metadata": {},
   "source": [
    "## Objective"
   ]
  },
  {
   "cell_type": "markdown",
   "metadata": {},
   "source": [
    "You will be designing a terminal-based application that reads text files, displays statistics about the content of the file, and edits the file.\n",
    "\n",
    "There will be three major functions for you to implement:\n",
    "1. _frequency()_, which accepts a string of text as a parameter and returns a dictionary, containing every word in the string, as the key, and the number of times the word appears in the string as the value.\n",
    "2. _top10()_ accepts a string of text as a parameter and returns a list of 2-tuples, representing the top ten most frequently appearing words from the string (or less, if there are fewer than ten unique words) and their frequency.\n",
    "3. _replace\\_word()_ accepts three parameters, one is a string of text, one is a string with a word to be replaced in the text, the last is a string with the world to replace it with. The function will replace all occurrences of a word with the replacement word.\n",
    "\n",
    "You will also need to build a user-interface in the termal for the user to execute and see the results of each function.\n"
   ]
  },
  {
   "cell_type": "markdown",
   "metadata": {},
   "source": [
    "## Requirements"
   ]
  },
  {
   "cell_type": "markdown",
   "metadata": {},
   "source": [
    "You will be provided the helper function _gettext()_, which will take the file name as input and return a string with all the text in the file. Feel free to look at the code, and try to understand it."
   ]
  },
  {
   "cell_type": "markdown",
   "metadata": {},
   "source": [
    "### _frequency()_"
   ]
  },
  {
   "cell_type": "markdown",
   "metadata": {},
   "source": [
    "### _top10()_"
   ]
  },
  {
   "cell_type": "markdown",
   "metadata": {},
   "source": [
    "### _replace_word()_"
   ]
  },
  {
   "cell_type": "markdown",
   "metadata": {},
   "source": [
    "## Testing"
   ]
  },
  {
   "cell_type": "markdown",
   "metadata": {},
   "source": [
    "For this project, you will need to test your code by comparing its results to that of a text editor with word-finding capabilities. In the future, you will be doing something called unit testing, which is a far better way of checking your code.\n",
    "\n",
    "You are, however, provided _test.py_, which will check a few cases of your code when you run it. Do not rely on it completely as it is not thorough.\n",
    "\n",
    "The user-interface will be tested by hand, but again, we'll have a better way of handling this later."
   ]
  },
  {
   "cell_type": "markdown",
   "metadata": {},
   "source": [
    "## Deliverables"
   ]
  },
  {
   "cell_type": "markdown",
   "metadata": {},
   "source": []
  }
 ],
 "metadata": {
  "language_info": {
   "name": "python"
  },
  "orig_nbformat": 4
 },
 "nbformat": 4,
 "nbformat_minor": 2
}
